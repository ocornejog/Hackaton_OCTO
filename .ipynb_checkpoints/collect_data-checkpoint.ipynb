{
 "cells": [
  {
   "cell_type": "code",
   "execution_count": 3,
   "metadata": {},
   "outputs": [
    {
     "name": "stdout",
     "output_type": "stream",
     "text": [
      "{'title': 'All Layover Questions - READ THIS NOTICE', 'score': 141, 'id': '1dzc3zh', 'url': 'https://www.reddit.com/r/travel/comments/1dzc3zh/all_layover_questions_read_this_notice/', 'num_comments': 46, 'created': 1720555637.0, 'body': '**READ THE NEW LAYOVER FAQ:** [**https://www.reddit.com/r/travel/wiki/mfaq-flying/layovers**](https://www.reddit.com/r/travel/wiki/mfaq-flying/layovers)\\n\\nAll layover questions will be removed unless your situation is unique and cannot be answered by the wiki.\\n\\n**Members of the community**: please report any layover questions that can be answered by the wiki and we will remove them promptly.\\n\\nSelf-transfers times are not covered under this new guideline and wiki.'}\n",
      "{'title': \"Colombia's Eje Cafetero and Bogotá -- the perfect trip, until it wasn't\", 'score': 57, 'id': '1i38v19', 'url': 'https://www.reddit.com/r/travel/comments/1i38v19/colombias_eje_cafetero_and_bogotá_the_perfect/', 'num_comments': 12, 'created': 1737089799.0, 'body': '*TLDR - I fell in love with this country and its amazing people. On my last day I witnessed a shooting and did my best to stop the guy from bleeding out.*\\n\\nI\\'ve been in Colombia for 18 days now. It\\'s my first ever trip to this beautiful country and for the past few days I\\'ve been thinking about writing up all my wonderful experiences and sharing them here on Reddit, but something happened today and I\\'m going to share my unvarnished experience.\\n\\nI decided to fly to Colombia at the last minute and bought my flights two days before departure. I found a lot of travel inspiration in this subreddit and others that made me decide that the Eje Cafetero was the trip I needed. But the flight deal I found took me to Bogotá.\\n\\nI spent about a week in Bogotá and I thoroughly enjoyed myself. The city was never high on my list, but I wanted to make the most of it. Of course, I was aware of the safety situation in the city, so I took many precautions: Planned my route if I was walking and mostly knew it by heart, Ubered at night, always kept my head on a swivel, all that kind of No Des Papaya stuff.\\n\\nI spent my first few nights in a hotel near Parque El Virrey. It\\'s a quiet area with plenty of good restaurants and places to walk to. I especially enjoyed my morning walks in the park and along the greenbelt that connects to Parque El Chicó. I had some great meals. And I liked the happening bar scene in Zona T / Zona Rosa.\\n\\nThen I stayed a few nights at a wonderful Airbnb in Chapinero where the host cooked me a delicious lunch every day. My favorite was ajiaco. I rode the TransMilenio to La Candelaria. Great museums there. And I enjoyed wandering through all the streets and alleys around Plazoleta Chorro de Quevedo. I went to Monserrate and walked all the way up and down. I had a blast stopping at different vendors along the way for fresh fruit, chicha, coca tea. Anyways, you get it: the oft-maligned city of Bogotá has some nice things to offer and I was into it.\\n\\nBut the core of the trip was the Eje Cafetero. So I left Bogotá and I spent 10 days touring Jardín, Jericó, Filandia, and Salento. This is when I really fell in love with Colombia. The people were some of the warmest and most genuine that I\\'ve encountered in my travels. I would greet people as I walked around town and it would often turn into a short conversation. I met people that I wound up sharing meals with or hanging out with for an extended time. The landscapes are breathtaking. And also you can let your guard down a little in these areas. Generally, MUCH MUCH safer than a big city like Bogotá. I felt relaxed, tranquil and grateful to be visiting. Maybe one day I will write more about this part of the journey, but you get it: it\\'s an awesome place and I was in travel heaven.\\n\\nBut all good things must come to an end and I arrived back in Bogotá in preparation for my flight home tomorrow. So, today was my last full day in Colombia. Just before 2pm in the afternoon I was walking in one of my favorite parts of Chapinero (east of Carrera 7 and north of Calle 53). An area with amazing restaurants, beautiful homes. . .basically a place that most people would call a \"nice\" neighborhood, and maybe even a \"safe\" neighborhood. \\n\\nI saw 2 guys on a motorbike coming my way. A common sight, but one that always puts me on high alert when I\\'m in Latin America. They passed by me and I kept on my way. And then POP POP POP. It didn\\'t register as gunfire right away, but I spun around and I see the guy from the back of the motorbike with a gun in his hand and the guy he shot crumpling to the ground. By this point, I was in shock/disbelief but a woman near me started screaming and we both went over to the victim to help. I had my suitcase with me and took out a tshirt and applied pressure to the wound on his arm and in his midsection where he was bleeding out pretty fast. A big crowd amassed and after not too long an ambulance and a bunch of cops on motorcycles showed up. I have since read several news articles about the shooting and watched an interview with the victim\\'s mother. He was very seriously injured and is in intensive care. While looking at media coverage I also saw myself on security camera footage that captured the shooting. It was all very disturbing and surreal since I\\'ve never had an experience like this. I do realize that violence happens all over the world and this is not just a Bogotá thing or a Colombia thing, but it\\'s cast a shadow over this trip. In addition to feeling sad for the man who was shot I am sad that the many great people who live in Bogotá are dealing with this kind of insecurity. I read some of their posts on twitter and other places online reacting to this shooting and I can sense their immense frustration and anger with their leaders.'}\n",
      "{'title': 'Why is overland travel to French Guiana so expensive?', 'score': 145, 'id': '1i2ump9', 'url': 'https://www.reddit.com/r/travel/comments/1i2ump9/why_is_overland_travel_to_french_guiana_so/', 'num_comments': 44, 'created': 1737049533.0, 'body': 'I am traveling to Suriname next month and I was looking into a short tour (3 days or so) to French Guiana. I noticed that all tour operators charge VERY high prices just for transportation alone, about USD300 for a single trip from Paramaribo to Cayenne. What is the reason for this? Is it because it is the only option, as there are no flights? For comparison: a single trip from Paramaribo to Georgetown (Guyana), which is roughly the same distance, costs about USD75.'}\n",
      "{'title': '4 days in Beautiful Baku, Azerbaijan ', 'score': 2720, 'id': '1i2bhm8', 'url': 'https://www.reddit.com/gallery/1i2bhm8', 'num_comments': 97, 'created': 1736985039.0, 'body': 'This is my first post in the community and I’m relatively new to Reddit. \\n\\nI wanted to share some pictures from my trip to Baku from last year. I live in the US and Azerbaijan is not really on anyone’s travel radar and I like to go to off the beaten path places if I can to avoid overtourism. \\n\\nIn order these are the pictures: \\n1. Baku City Seaside National Park - I stayed in a hotel along the park and while on a busy road I loved the park, lots of cafes places to sit beautifully landscaped with nice views of the skyline and the Caspian Sea. \\n2. Buildings along the waterfront.\\n3. Historic buildings in the city center. \\n4. Nizami street Baku’s main shopping street downtown. \\n5. Same as above. \\n6. Museum of Azerbaijan literature. Didn’t go in but did do the national carpet museum which is located in the waterfront park and it was excellent if you like the art of rugs from this region. \\n7. Ismailiyya Palace / İsmailliyyə sarayı\\n8. Səadət Sarayı - used for weddings \\n9. Baku City Hall\\n9. Baku Metro - Photography is prohibited but I was excited to be on a former Soviet metro system so I had to break the rules. \\n10 - 11. Baku White City - a new massive development built as an extension of the urban core with modern and traditional architectural styles on former industrial land. The metro will be extend through the area. It has many shops, hotels, offices, and schools mixed in with the higher density housing. \\n12. Port Baku, major shopping and office area. Lots of new investments are being made in the area in terms of parks and new streets to be more pedestrian friendly and enhance connectivity. \\n13. Taken from Maiden Tower which is not pictured but this is the view of the old city with Flame Towers in the background. \\n14. Heydar Aliyev Culture Center by Zaha Hadid. \\n15. City view and park in front of Heydar Aliyev Center. \\n16. Bibi Heyat Mosque \\n17. Gobustan petroglyphs historic site. It was cool to see how this Neolithic society caught water and engraved carvings depicting their rituals into the rocks here and the view was great. \\n18. Mud volcanoes. You can touch them as they erupt cold. They smell like gasoline and you can light them on fire. We drove out to them in old Soviet cars which was really unique. \\n20. Shah Mosque in the historic city içerişehir. \\n\\nOverall I loved Baku it was very beautiful and clean, I wish I could have post more pictures and included the food I ate which was all very fresh and delicious. The city is a great contrast between new and old and it’s hard to place as it looks oddly Parisian or British in parts and then kind of like a Turkic Dubai in other areas. Everyone we encountered was very kind and it was one of the most warm countries I’ve visited. Flying over Azerbaijan the landscape in general is beautiful in the foothills of the Caucasus and would be worth exploring in depth if only I had more time. \\n\\nHappy to answer any questions about the trip but thanks for taking the time to view my post. '}\n",
      "{'title': 'Pyramids and Petra', 'score': 27, 'id': '1i33rnq', 'url': 'https://www.reddit.com/r/travel/comments/1i33rnq/pyramids_and_petra/', 'num_comments': 49, 'created': 1737073616.0, 'body': 'Our next big adventure will be to see the Pyramids of Giza, then to Petra.  Those of you who have been there, did you go with a guided tour or by yourselves.  Given the region, I feel a guided tour would be the safest, what tour company would you recommend?  Thank you for any help.'}\n"
     ]
    }
   ],
   "source": [
    "import os\n",
    "from dotenv import load_dotenv\n",
    "# Load environment variables from the .env file\n",
    "load_dotenv()\n",
    "# Set up your Reddit API credentials\n",
    "CLIENT_ID = os.environ['CLIENT_ID']\n",
    "CLIENT_SECRET= os.environ['CLIENT_SECRET']\n",
    "REDDIT_USERNAME= os.environ['REDDIT_USERNAME']\n",
    "REDDIT_SECRET= os.environ['REDDIT_SECRET']\n",
    "USER_AGENT = \"MyApi/1.0.0\","
   ]
  },
  {
   "cell_type": "code",
   "execution_count": null,
   "metadata": {},
   "outputs": [],
   "source": [
    "import praw\n",
    "# Authenticate using OAuth2\n",
    "reddit = praw.Reddit(\n",
    " client_id=CLIENT_ID,\n",
    " client_secret=CLIENT_SECRET,\n",
    " password=REDDIT_SECRET,\n",
    " user_agent=USER_AGENT ,\n",
    " username=REDDIT_USERNAME,\n",
    ")"
   ]
  }
 ],
 "metadata": {
  "kernelspec": {
   "display_name": "Python 3 (ipykernel)",
   "language": "python",
   "name": "python3"
  },
  "language_info": {
   "codemirror_mode": {
    "name": "ipython",
    "version": 3
   },
   "file_extension": ".py",
   "mimetype": "text/x-python",
   "name": "python",
   "nbconvert_exporter": "python",
   "pygments_lexer": "ipython3",
   "version": "3.13.1"
  }
 },
 "nbformat": 4,
 "nbformat_minor": 2
}
