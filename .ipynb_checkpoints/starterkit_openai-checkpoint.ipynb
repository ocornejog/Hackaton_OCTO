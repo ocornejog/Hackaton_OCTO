{
 "cells": [
  {
   "cell_type": "code",
   "execution_count": 1,
   "metadata": {},
   "outputs": [],
   "source": [
    "#!pip install openai\n",
    "import openai\n",
    "import os\n",
    "from dotenv import load_dotenv, find_dotenv\n",
    "_ = load_dotenv(find_dotenv()) # read local .env file\n",
    "\n",
    "openai.api_key = os.environ['OPENAI_API_KEY']  # input yours here"
   ]
  },
  {
   "cell_type": "code",
   "execution_count": 5,
   "metadata": {},
   "outputs": [],
   "source": [
    "llm_model = \"gpt-3.5-turbo\"\n",
    "def get_response_from_model(prompt):\n",
    "    messages = [{\"role\": \"user\", \"content\": prompt}]\n",
    "    response = openai.chat.completions.create(\n",
    "        model=llm_model,\n",
    "        messages=messages,\n",
    "        temperature=0\n",
    "    )\n",
    "    return response.choices[0].message.content"
   ]
  },
  {
   "cell_type": "code",
   "execution_count": 6,
   "metadata": {},
   "outputs": [
    {
     "data": {
      "text/plain": [
       "\"\\nJe vous fournis une liste de posts sur le transport en commun en france RATP. La liste de posts ['mauvais service', 'pas de retard pour une fois']. Je souhaite que vous réalisiez une modélisation de sujets pour moi.Ton job sera d'analyser le sentiment de chaque post, s'il est negatif, positif ou une information. Et en plus tu ajouteras \\nles arguments derrière ces sentiment ou la raison de colère par exemple.\\ntext : the full text of the post\\nsentiment: negatif, postif ou information\\nraison/argument: la raison pour le sentiment\\nFormat the output as list of JSON with the following keys and without \\n: \\ntext\\nsentiment:\\nraison/argument:\\n\""
      ]
     },
     "execution_count": 6,
     "metadata": {},
     "output_type": "execute_result"
    }
   ],
   "source": [
    "prompt =\"\"\"\n",
    "Je vous fournis une liste de posts sur le transport en commun en france RATP. La liste de posts {list_posts}. \\\n",
    "Je souhaite que vous réalisiez une modélisation de sujets pour moi.\\\n",
    "Ton job sera d'analyser le sentiment de chaque post, s'il est negatif, positif ou une information. Et en plus tu ajouteras \n",
    "les arguments derrière ces sentiment ou la raison de colère par exemple.\n",
    "text : the full text of the post\n",
    "sentiment: negatif, postif ou information\n",
    "raison/argument: la raison pour le sentiment\n",
    "Format the output as list of JSON with the following keys and without \\n: \n",
    "text\n",
    "sentiment:\n",
    "raison/argument:\n",
    "\"\"\"\n",
    "ma_list_de_posts_ou_commentaires = [\"mauvais service\", \"pas de retard pour une fois\"]\n",
    "# visualiser le prompt\n",
    "prompt.format(list_posts=ma_list_de_posts_ou_commentaires)"
   ]
  },
  {
   "cell_type": "code",
   "execution_count": 7,
   "metadata": {},
   "outputs": [
    {
     "name": "stdout",
     "output_type": "stream",
     "text": [
      "[\n",
      "{\n",
      "\"text\": \"mauvais service\",\n",
      "\"sentiment\": \"negatif\",\n",
      "\"raison/argument\": \"Le post exprime un mécontentement envers la qualité du service fourni par la RATP, probablement en raison de retards, pannes ou autres problèmes rencontrés lors de l'utilisation des transports en commun.\"\n",
      "},\n",
      "{\n",
      "\"text\": \"pas de retard pour une fois\",\n",
      "\"sentiment\": \"positif\",\n",
      "\"raison/argument\": \"Le post exprime une satisfaction quant au fait qu'il n'y ait pas eu de retard cette fois-ci, ce qui est rare et donc positif pour l'utilisateur des transports en commun de la RATP.\"\n",
      "}\n",
      "]\n"
     ]
    }
   ],
   "source": [
    "print(get_response_from_model(prompt.format(list_posts=ma_list_de_posts_ou_commentaires)))"
   ]
  },
  {
   "cell_type": "code",
   "execution_count": null,
   "metadata": {},
   "outputs": [],
   "source": []
  }
 ],
 "metadata": {
  "kernelspec": {
   "display_name": "Python 3 (ipykernel)",
   "language": "python",
   "name": "python3"
  },
  "language_info": {
   "codemirror_mode": {
    "name": "ipython",
    "version": 3
   },
   "file_extension": ".py",
   "mimetype": "text/x-python",
   "name": "python",
   "nbconvert_exporter": "python",
   "pygments_lexer": "ipython3",
   "version": "3.13.1"
  }
 },
 "nbformat": 4,
 "nbformat_minor": 2
}
