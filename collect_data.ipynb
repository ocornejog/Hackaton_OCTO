{
 "cells": [
  {
   "cell_type": "code",
   "execution_count": 2,
   "metadata": {},
   "outputs": [
    {
     "name": "stdout",
     "output_type": "stream",
     "text": [
      "{'title': 'All Layover Questions - READ THIS NOTICE', 'score': 144, 'id': '1dzc3zh', 'url': 'https://www.reddit.com/r/travel/comments/1dzc3zh/all_layover_questions_read_this_notice/', 'num_comments': 46, 'created': 1720555637.0, 'body': '**READ THE NEW LAYOVER FAQ:** [**https://www.reddit.com/r/travel/wiki/mfaq-flying/layovers**](https://www.reddit.com/r/travel/wiki/mfaq-flying/layovers)\\n\\nAll layover questions will be removed unless your situation is unique and cannot be answered by the wiki.\\n\\n**Members of the community**: please report any layover questions that can be answered by the wiki and we will remove them promptly.\\n\\nSelf-transfers times are not covered under this new guideline and wiki.'}\n",
      "{'title': 'Serious question: is there a worse airport than CDG?', 'score': 108, 'id': '1i3df08', 'url': 'https://www.reddit.com/r/travel/comments/1i3df08/serious_question_is_there_a_worse_airport_than_cdg/', 'num_comments': 280, 'created': 1737109594.0, 'body': 'I’m traditionally kind of an airline apologist - all things considered it’s pretty wild we can hop on a rocket and cross the globe in a day, and there are certainly worse things than difficult travel logistics.\\n\\nBut is there a worse overall airport than CDG? I’ve traveled quite a bit but every 5-6 years I fall into the “it isn’t as bad as I remember trap” and I transfer through CDG and am amazed at how awful it is. \\n\\nEverything from terminal transportation, security checkpoints, lounges, gates to airplane loading, the organization/naming, layout. It’s a C- at best in every category. This post is less about dogging CDG, although that is welcome, but I’m curious if there are any worse airports in the world? I want to know so I can avoid. '}\n",
      "{'title': 'What country/culture ended up being way different than you anticipated?', 'score': 26, 'id': '1i3f8cp', 'url': 'https://www.reddit.com/r/travel/comments/1i3f8cp/what_countryculture_ended_up_being_way_different/', 'num_comments': 22, 'created': 1737116802.0, 'body': 'Just thinking back on how amazing my Poland trip was this past summer, and how much different the people were than I had anticipated. You always hear about the Polish face or how there’s little to no emotion, even my Polish friends here in the states joke about it. I also read a lot of history and it’s no secret that Poland has had a rough past… I imagined the Polish people were going to be a sort of hardened, stand offish type people. Like it was going to be hard to connect with anyone. Not unfriendly, maybe just… more hardened than other places in Europe. I honestly couldn’t have been more wrong. I met some of the most delightful people there, everyone I spoke to was extremely friendly and polite. It was the first place I ever had people get excited that I knew a few words of their language, which to hear about happening but I’d never experienced until Poland. I’d honestly say that the Polish are probably some of my favorite people in Europe.\\n\\n\\n\\nHave you guys ever been totally off base with what you thought a country was going to be like when you got there?'}\n",
      "{'title': \"Colombia's Eje Cafetero and Bogotá -- the perfect trip, until it wasn't\", 'score': 76, 'id': '1i38v19', 'url': 'https://www.reddit.com/r/travel/comments/1i38v19/colombias_eje_cafetero_and_bogotá_the_perfect/', 'num_comments': 14, 'created': 1737089799.0, 'body': '*TLDR - I fell in love with this country and its amazing people. On my last day I witnessed a shooting and did my best to stop the guy from bleeding out.*\\n\\nI\\'ve been in Colombia for 18 days now. It\\'s my first ever trip to this beautiful country and for the past few days I\\'ve been thinking about writing up all my wonderful experiences and sharing them here on Reddit, but something happened today and I\\'m going to share my unvarnished experience.\\n\\nI decided to fly to Colombia at the last minute and bought my flights two days before departure. I found a lot of travel inspiration in this subreddit and others that made me decide that the Eje Cafetero was the trip I needed. But the flight deal I found took me to Bogotá.\\n\\nI spent about a week in Bogotá and I thoroughly enjoyed myself. The city was never high on my list, but I wanted to make the most of it. Of course, I was aware of the safety situation in the city, so I took many precautions: Planned my route if I was walking and mostly knew it by heart, Ubered at night, always kept my head on a swivel, all that kind of No Des Papaya stuff.\\n\\nI spent my first few nights in a hotel near Parque El Virrey. It\\'s a quiet area with plenty of good restaurants and places to walk to. I especially enjoyed my morning walks in the park and along the greenbelt that connects to Parque El Chicó. I had some great meals. And I liked the happening bar scene in Zona T / Zona Rosa.\\n\\nThen I stayed a few nights at a wonderful Airbnb in Chapinero where the host cooked me a delicious lunch every day. My favorite was ajiaco. I rode the TransMilenio to La Candelaria. Great museums there. And I enjoyed wandering through all the streets and alleys around Plazoleta Chorro de Quevedo. I went to Monserrate and walked all the way up and down. I had a blast stopping at different vendors along the way for fresh fruit, chicha, coca tea. Anyways, you get it: the oft-maligned city of Bogotá has some nice things to offer and I was into it.\\n\\nBut the core of the trip was the Eje Cafetero. So I left Bogotá and I spent 10 days touring Jardín, Jericó, Filandia, and Salento. This is when I really fell in love with Colombia. The people were some of the warmest and most genuine that I\\'ve encountered in my travels. I would greet people as I walked around town and it would often turn into a short conversation. I met people that I wound up sharing meals with or hanging out with for an extended time. The landscapes are breathtaking. And also you can let your guard down a little in these areas. Generally, MUCH MUCH safer than a big city like Bogotá. I felt relaxed, tranquil and grateful to be visiting. Maybe one day I will write more about this part of the journey, but you get it: it\\'s an awesome place and I was in travel heaven.\\n\\nBut all good things must come to an end and I arrived back in Bogotá in preparation for my flight home tomorrow. So, today was my last full day in Colombia. Just before 2pm in the afternoon I was walking in one of my favorite parts of Chapinero (east of Carrera 7 and north of Calle 53). An area with amazing restaurants, beautiful homes. . .basically a place that most people would call a \"nice\" neighborhood, and maybe even a \"safe\" neighborhood. \\n\\nI saw 2 guys on a motorbike coming my way. A common sight, but one that always puts me on high alert when I\\'m in Latin America. They passed by me and I kept on my way. And then POP POP POP. It didn\\'t register as gunfire right away, but I spun around and I see the guy from the back of the motorbike with a gun in his hand and the guy he shot crumpling to the ground. By this point, I was in shock/disbelief but a woman near me started screaming and we both went over to the victim to help. I had my suitcase with me and took out a tshirt and applied pressure to the wound on his arm and in his midsection where he was bleeding out pretty fast. A big crowd amassed and after not too long an ambulance and a bunch of cops on motorcycles showed up. I have since read several news articles about the shooting and watched an interview with the victim\\'s mother. He was very seriously injured and is in intensive care. While looking at media coverage I also saw myself on security camera footage that captured the shooting. It was all very disturbing and surreal since I\\'ve never had an experience like this. I do realize that violence happens all over the world and this is not just a Bogotá thing or a Colombia thing, but it\\'s cast a shadow over this trip. In addition to feeling sad for the man who was shot I am sad that the many great people who live in Bogotá are dealing with this kind of insecurity. I read some of their posts on twitter and other places online reacting to this shooting and I can sense their immense frustration and anger with their leaders.'}\n",
      "{'title': 'Why is overland travel to French Guiana so expensive?', 'score': 166, 'id': '1i2ump9', 'url': 'https://www.reddit.com/r/travel/comments/1i2ump9/why_is_overland_travel_to_french_guiana_so/', 'num_comments': 45, 'created': 1737049533.0, 'body': 'I am traveling to Suriname next month and I was looking into a short tour (3 days or so) to French Guiana. I noticed that all tour operators charge VERY high prices just for transportation alone, about USD300 for a single trip from Paramaribo to Cayenne. What is the reason for this? Is it because it is the only option, as there are no flights? For comparison: a single trip from Paramaribo to Georgetown (Guyana), which is roughly the same distance, costs about USD75.'}\n"
     ]
    }
   ],
   "source": [
    "import praw\n",
    "\n",
    "# Configuration de l'API Reddit\n",
    "reddit = praw.Reddit(client_id='9seiF8n3LPJv4EDar1GyuA',\n",
    "                     client_secret='LawYhA2r4-fQTWEi2yYT4YXID5V2sQ',\n",
    "                     user_agent='YOUR_USER_AGENT')\n",
    "\n",
    "# Fonction pour collecter les données d'un subreddit\n",
    "def collect_reddit_data(subreddit_name, limit=10):\n",
    "    subreddit = reddit.subreddit(subreddit_name)\n",
    "    posts = []\n",
    "    for post in subreddit.hot(limit=limit):\n",
    "        posts.append({\n",
    "            'title': post.title,\n",
    "            'score': post.score,\n",
    "            'id': post.id,\n",
    "            'url': post.url,\n",
    "            'num_comments': post.num_comments,\n",
    "            'created': post.created,\n",
    "            'body': post.selftext\n",
    "        })\n",
    "    return posts\n",
    "\n",
    "# Exemple d'utilisation\n",
    "subreddit_name = 'travel'\n",
    "data = collect_reddit_data(subreddit_name, limit=5)\n",
    "for post in data:\n",
    "    print(post)"
   ]
  },
  {
   "cell_type": "code",
   "execution_count": 3,
   "metadata": {},
   "outputs": [
    {
     "data": {
      "text/plain": [
       "[{'title': 'All Layover Questions - READ THIS NOTICE',\n",
       "  'score': 144,\n",
       "  'id': '1dzc3zh',\n",
       "  'url': 'https://www.reddit.com/r/travel/comments/1dzc3zh/all_layover_questions_read_this_notice/',\n",
       "  'num_comments': 46,\n",
       "  'created': 1720555637.0,\n",
       "  'body': '**READ THE NEW LAYOVER FAQ:** [**https://www.reddit.com/r/travel/wiki/mfaq-flying/layovers**](https://www.reddit.com/r/travel/wiki/mfaq-flying/layovers)\\n\\nAll layover questions will be removed unless your situation is unique and cannot be answered by the wiki.\\n\\n**Members of the community**: please report any layover questions that can be answered by the wiki and we will remove them promptly.\\n\\nSelf-transfers times are not covered under this new guideline and wiki.'},\n",
       " {'title': 'Serious question: is there a worse airport than CDG?',\n",
       "  'score': 108,\n",
       "  'id': '1i3df08',\n",
       "  'url': 'https://www.reddit.com/r/travel/comments/1i3df08/serious_question_is_there_a_worse_airport_than_cdg/',\n",
       "  'num_comments': 280,\n",
       "  'created': 1737109594.0,\n",
       "  'body': 'I’m traditionally kind of an airline apologist - all things considered it’s pretty wild we can hop on a rocket and cross the globe in a day, and there are certainly worse things than difficult travel logistics.\\n\\nBut is there a worse overall airport than CDG? I’ve traveled quite a bit but every 5-6 years I fall into the “it isn’t as bad as I remember trap” and I transfer through CDG and am amazed at how awful it is. \\n\\nEverything from terminal transportation, security checkpoints, lounges, gates to airplane loading, the organization/naming, layout. It’s a C- at best in every category. This post is less about dogging CDG, although that is welcome, but I’m curious if there are any worse airports in the world? I want to know so I can avoid. '},\n",
       " {'title': 'What country/culture ended up being way different than you anticipated?',\n",
       "  'score': 26,\n",
       "  'id': '1i3f8cp',\n",
       "  'url': 'https://www.reddit.com/r/travel/comments/1i3f8cp/what_countryculture_ended_up_being_way_different/',\n",
       "  'num_comments': 22,\n",
       "  'created': 1737116802.0,\n",
       "  'body': 'Just thinking back on how amazing my Poland trip was this past summer, and how much different the people were than I had anticipated. You always hear about the Polish face or how there’s little to no emotion, even my Polish friends here in the states joke about it. I also read a lot of history and it’s no secret that Poland has had a rough past… I imagined the Polish people were going to be a sort of hardened, stand offish type people. Like it was going to be hard to connect with anyone. Not unfriendly, maybe just… more hardened than other places in Europe. I honestly couldn’t have been more wrong. I met some of the most delightful people there, everyone I spoke to was extremely friendly and polite. It was the first place I ever had people get excited that I knew a few words of their language, which to hear about happening but I’d never experienced until Poland. I’d honestly say that the Polish are probably some of my favorite people in Europe.\\n\\n\\n\\nHave you guys ever been totally off base with what you thought a country was going to be like when you got there?'},\n",
       " {'title': \"Colombia's Eje Cafetero and Bogotá -- the perfect trip, until it wasn't\",\n",
       "  'score': 76,\n",
       "  'id': '1i38v19',\n",
       "  'url': 'https://www.reddit.com/r/travel/comments/1i38v19/colombias_eje_cafetero_and_bogotá_the_perfect/',\n",
       "  'num_comments': 14,\n",
       "  'created': 1737089799.0,\n",
       "  'body': '*TLDR - I fell in love with this country and its amazing people. On my last day I witnessed a shooting and did my best to stop the guy from bleeding out.*\\n\\nI\\'ve been in Colombia for 18 days now. It\\'s my first ever trip to this beautiful country and for the past few days I\\'ve been thinking about writing up all my wonderful experiences and sharing them here on Reddit, but something happened today and I\\'m going to share my unvarnished experience.\\n\\nI decided to fly to Colombia at the last minute and bought my flights two days before departure. I found a lot of travel inspiration in this subreddit and others that made me decide that the Eje Cafetero was the trip I needed. But the flight deal I found took me to Bogotá.\\n\\nI spent about a week in Bogotá and I thoroughly enjoyed myself. The city was never high on my list, but I wanted to make the most of it. Of course, I was aware of the safety situation in the city, so I took many precautions: Planned my route if I was walking and mostly knew it by heart, Ubered at night, always kept my head on a swivel, all that kind of No Des Papaya stuff.\\n\\nI spent my first few nights in a hotel near Parque El Virrey. It\\'s a quiet area with plenty of good restaurants and places to walk to. I especially enjoyed my morning walks in the park and along the greenbelt that connects to Parque El Chicó. I had some great meals. And I liked the happening bar scene in Zona T / Zona Rosa.\\n\\nThen I stayed a few nights at a wonderful Airbnb in Chapinero where the host cooked me a delicious lunch every day. My favorite was ajiaco. I rode the TransMilenio to La Candelaria. Great museums there. And I enjoyed wandering through all the streets and alleys around Plazoleta Chorro de Quevedo. I went to Monserrate and walked all the way up and down. I had a blast stopping at different vendors along the way for fresh fruit, chicha, coca tea. Anyways, you get it: the oft-maligned city of Bogotá has some nice things to offer and I was into it.\\n\\nBut the core of the trip was the Eje Cafetero. So I left Bogotá and I spent 10 days touring Jardín, Jericó, Filandia, and Salento. This is when I really fell in love with Colombia. The people were some of the warmest and most genuine that I\\'ve encountered in my travels. I would greet people as I walked around town and it would often turn into a short conversation. I met people that I wound up sharing meals with or hanging out with for an extended time. The landscapes are breathtaking. And also you can let your guard down a little in these areas. Generally, MUCH MUCH safer than a big city like Bogotá. I felt relaxed, tranquil and grateful to be visiting. Maybe one day I will write more about this part of the journey, but you get it: it\\'s an awesome place and I was in travel heaven.\\n\\nBut all good things must come to an end and I arrived back in Bogotá in preparation for my flight home tomorrow. So, today was my last full day in Colombia. Just before 2pm in the afternoon I was walking in one of my favorite parts of Chapinero (east of Carrera 7 and north of Calle 53). An area with amazing restaurants, beautiful homes. . .basically a place that most people would call a \"nice\" neighborhood, and maybe even a \"safe\" neighborhood. \\n\\nI saw 2 guys on a motorbike coming my way. A common sight, but one that always puts me on high alert when I\\'m in Latin America. They passed by me and I kept on my way. And then POP POP POP. It didn\\'t register as gunfire right away, but I spun around and I see the guy from the back of the motorbike with a gun in his hand and the guy he shot crumpling to the ground. By this point, I was in shock/disbelief but a woman near me started screaming and we both went over to the victim to help. I had my suitcase with me and took out a tshirt and applied pressure to the wound on his arm and in his midsection where he was bleeding out pretty fast. A big crowd amassed and after not too long an ambulance and a bunch of cops on motorcycles showed up. I have since read several news articles about the shooting and watched an interview with the victim\\'s mother. He was very seriously injured and is in intensive care. While looking at media coverage I also saw myself on security camera footage that captured the shooting. It was all very disturbing and surreal since I\\'ve never had an experience like this. I do realize that violence happens all over the world and this is not just a Bogotá thing or a Colombia thing, but it\\'s cast a shadow over this trip. In addition to feeling sad for the man who was shot I am sad that the many great people who live in Bogotá are dealing with this kind of insecurity. I read some of their posts on twitter and other places online reacting to this shooting and I can sense their immense frustration and anger with their leaders.'},\n",
       " {'title': 'Why is overland travel to French Guiana so expensive?',\n",
       "  'score': 166,\n",
       "  'id': '1i2ump9',\n",
       "  'url': 'https://www.reddit.com/r/travel/comments/1i2ump9/why_is_overland_travel_to_french_guiana_so/',\n",
       "  'num_comments': 45,\n",
       "  'created': 1737049533.0,\n",
       "  'body': 'I am traveling to Suriname next month and I was looking into a short tour (3 days or so) to French Guiana. I noticed that all tour operators charge VERY high prices just for transportation alone, about USD300 for a single trip from Paramaribo to Cayenne. What is the reason for this? Is it because it is the only option, as there are no flights? For comparison: a single trip from Paramaribo to Georgetown (Guyana), which is roughly the same distance, costs about USD75.'}]"
      ]
     },
     "execution_count": 3,
     "metadata": {},
     "output_type": "execute_result"
    }
   ],
   "source": [
    "data"
   ]
  },
  {
   "cell_type": "code",
   "execution_count": 8,
   "metadata": {},
   "outputs": [
    {
     "name": "stdout",
     "output_type": "stream",
     "text": [
      "The analysis has been completed and saved to 'analyzed_posts2.csv'.\n"
     ]
    }
   ],
   "source": [
    "import openai\n",
    "import pandas as pd\n",
    "\n",
    "# Load the CSV file into a DataFrame\n",
    "df = pd.read_csv('interesting_reddit_posts.csv')\n",
    "\n",
    "# Function to analyze each post using OpenAI GPT\n",
    "def analyze_post(title, body):\n",
    "    if not title and not body:\n",
    "        return {\"Country\": \"/\", \"Satisfaction Score\": \"/\", \"Security Score\": \"/\"}\n",
    "    \n",
    "    prompt = f\"\"\"Title: {title}\\n\\nBody: {body}\\n\\nAnalyze the Reddit post below and extract the following information:\n",
    "\n",
    "Satisfaction Score: Rate the overall satisfaction described in the post between 0 and 10. If no satisfaction level can be inferred, return /.\n",
    "Country: Identify the country mentioned in the post. If no country is mentioned, return /.\n",
    "Security Score: Rate the security level described in the post between 0 and 10 based on the user's impressions. If the post does not mention security, return /.\n",
    "Output format:\n",
    "Satisfaction Score: [x/10 or /]\n",
    "Country: [Country or /]\n",
    "Security Score: [x/10 or /]\"\"\"\n",
    "    \n",
    "    try:\n",
    "        response = openai.ChatCompletion.create(\n",
    "            model=\"gpt-3.5-turbo\",\n",
    "            messages=[\n",
    "                {\"role\": \"system\", \"content\": \"You are a helpful assistant.\"},\n",
    "                {\"role\": \"user\", \"content\": prompt}\n",
    "            ],\n",
    "            max_tokens=100\n",
    "        )\n",
    "        # Parse the response\n",
    "        content = response.choices[0].message['content'].strip()\n",
    "        # Extract fields from the response\n",
    "        result = {\n",
    "            \"Country\": extract_field(content, \"Country\"),\n",
    "            \"Satisfaction Score\": extract_field(content, \"Satisfaction Score\"),\n",
    "            \"Security Score\": extract_field(content, \"Security Score\")\n",
    "        }\n",
    "        return result\n",
    "    except Exception as e:\n",
    "        print(f\"Error analyzing post: {e}\")\n",
    "        return {\"Country\": \"/\", \"Satisfaction Score\": \"/\", \"Security Score\": \"/\"}\n",
    "\n",
    "# Helper function to extract a specific field from the response\n",
    "def extract_field(text, field_name):\n",
    "    import re\n",
    "    match = re.search(rf\"{field_name}: (.+?)(?:\\n|$)\", text)\n",
    "    return match.group(1).strip() if match else \"/\"\n",
    "\n",
    "# Analyze posts and add results to the DataFrame\n",
    "df[['Country', 'Satisfaction Score', 'Security Score']] = df.apply(\n",
    "    lambda row: pd.Series(analyze_post(row.get('title', ''), row.get('body', ''))),\n",
    "    axis=1\n",
    ")\n",
    "\n",
    "# Save the updated DataFrame to a new CSV file\n",
    "output_file = 'analyzed_posts2.csv'\n",
    "df.to_csv(output_file, index=False)\n",
    "\n",
    "print(f\"The analysis has been completed and saved to '{output_file}'.\")\n"
   ]
  },
  {
   "cell_type": "code",
   "execution_count": null,
   "metadata": {},
   "outputs": [],
   "source": []
  }
 ],
 "metadata": {
  "kernelspec": {
   "display_name": "Python 3",
   "language": "python",
   "name": "python3"
  },
  "language_info": {
   "codemirror_mode": {
    "name": "ipython",
    "version": 3
   },
   "file_extension": ".py",
   "mimetype": "text/x-python",
   "name": "python",
   "nbconvert_exporter": "python",
   "pygments_lexer": "ipython3",
   "version": "3.11.9"
  }
 },
 "nbformat": 4,
 "nbformat_minor": 2
}
